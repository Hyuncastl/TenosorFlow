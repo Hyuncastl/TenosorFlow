{
  "nbformat": 4,
  "nbformat_minor": 0,
  "metadata": {
    "colab": {
      "provenance": [],
      "include_colab_link": true
    },
    "kernelspec": {
      "name": "python3",
      "display_name": "Python 3"
    },
    "accelerator": "GPU"
  },
  "cells": [
    {
      "cell_type": "markdown",
      "metadata": {
        "id": "view-in-github",
        "colab_type": "text"
      },
      "source": [
        "<a href=\"https://colab.research.google.com/github/Hyuncastl/TenosorFlow/blob/main/TF2_fashion_mnist_(%EB%8B%B5%EC%95%88).ipynb\" target=\"_parent\"><img src=\"https://colab.research.google.com/assets/colab-badge.svg\" alt=\"Open In Colab\"/></a>"
      ]
    },
    {
      "cell_type": "code",
      "metadata": {
        "id": "A7c60mMUFXpm",
        "colab": {
          "base_uri": "https://localhost:8080/"
        },
        "outputId": "c55f3497-4c54-4284-b528-67ea770b0e5e"
      },
      "source": [
        "# ======================================================================\n",
        "# There are 5 questions in this test with increasing difficulty from 1-5\n",
        "# Please note that the weight of the grade for the question is relative\n",
        "# to its difficulty. So your Category 1 question will score much less\n",
        "# than your Category 5 question.\n",
        "# ======================================================================\n",
        "#\n",
        "# Basic Datasets Question\n",
        "#\n",
        "# Create a classifier for the Fashion MNIST dataset\n",
        "# Note that the test will expect it to classify 10 classes and that the \n",
        "# input shape should be the native size of the Fashion MNIST dataset which is \n",
        "# 28x28 monochrome. Do not resize the data. YOur input layer should accept\n",
        "# (28,28) as the input shape only. If you amend this, the tests will fail.\n",
        "#\n",
        "\n",
        "# =========== 합격 기준 가이드라인 공유 ============= #\n",
        "# val_loss 기준에 맞춰 주시는 것이 훨씬 더 중요 #\n",
        "# val_loss 보다 조금 높아도 상관없음. (언저리까지 OK) #\n",
        "# =================================================== #\n",
        "# 문제명: Category 2 - fashion mnist\n",
        "# val_loss: 0.33\n",
        "# val_acc: 0.89\n",
        "# =================================================== #\n",
        "# =================================================== #\n",
        "\n",
        "\n",
        "import tensorflow as tf\n",
        "\n",
        "\n",
        "def solution_model():\n",
        "    fashion_mnist = tf.keras.datasets.fashion_mnist\n",
        "    (train_images, train_labels), (test_images, test_labels)=fashion_mnist.load_data()\n",
        "\n",
        "    # YOUR CODE HERE\n",
        "    ## 정규화\n",
        "    train_images = train_images/255.0\n",
        "    test_images = test_images/255.0\n",
        "\n",
        "    model=tf.keras.Sequential([\n",
        "        tf.keras.layers.Flatten(input_shape=(28,28)),\n",
        "        tf.keras.layers.Dense(512, activation = 'relu'), \n",
        "        tf.keras.layers.Dense(256, activation = 'relu'), \n",
        "        tf.keras.layers.Dense(10, activation = 'softmax'), \n",
        "    ])\n",
        "\n",
        "    ##컴파일\n",
        "    model.compile(optimizer = 'adam', loss = 'sparse_categorical_crossentropy',\n",
        "                    metrics=['accuracy'])\n",
        "    ##학습\n",
        "    model.fit(train_images, train_labels, validation_data=(test_images,test_labels),\n",
        "              epochs = 5)\n",
        "\n",
        "    return model\n",
        "\n",
        "\n",
        "# Note that you'll need to save your model as a .h5 like this\n",
        "# This .h5 will be uploaded to the testing infrastructure\n",
        "# and a score will be returned to you\n",
        "if __name__ == '__main__':\n",
        "    model = solution_model()\n",
        "    model.save(\"TF2-fashion-mnist.h5\")  \n"
      ],
      "execution_count": null,
      "outputs": [
        {
          "output_type": "stream",
          "name": "stdout",
          "text": [
            "Epoch 1/5\n",
            "1875/1875 [==============================] - 8s 3ms/step - loss: 0.4678 - accuracy: 0.8317 - val_loss: 0.4148 - val_accuracy: 0.8494\n",
            "Epoch 2/5\n",
            "1875/1875 [==============================] - 6s 3ms/step - loss: 0.3558 - accuracy: 0.8693 - val_loss: 0.3934 - val_accuracy: 0.8568\n",
            "Epoch 3/5\n",
            "1875/1875 [==============================] - 6s 3ms/step - loss: 0.3189 - accuracy: 0.8818 - val_loss: 0.4082 - val_accuracy: 0.8526\n",
            "Epoch 4/5\n",
            "1875/1875 [==============================] - 6s 3ms/step - loss: 0.2964 - accuracy: 0.8897 - val_loss: 0.3525 - val_accuracy: 0.8725\n",
            "Epoch 5/5\n",
            "1875/1875 [==============================] - 6s 3ms/step - loss: 0.2783 - accuracy: 0.8966 - val_loss: 0.3643 - val_accuracy: 0.8714\n"
          ]
        }
      ]
    },
    {
      "cell_type": "code",
      "source": [
        "fashion_mnist = tf.keras.datasets.fashion_mnist\n",
        "(train_images, train_labels), (test_images, test_labels)=fashion_mnist.load_data()\n",
        "train_images = train_images/255.0\n",
        "test_images = test_images/255.0\n",
        "\n",
        "(loss, accuracy)=model.evaluate(test_images, test_labels)"
      ],
      "metadata": {
        "id": "ZD6iWx2U-8dy",
        "colab": {
          "base_uri": "https://localhost:8080/"
        },
        "outputId": "2eddc609-f5f6-40ae-a430-c3ced7bdeaca"
      },
      "execution_count": null,
      "outputs": [
        {
          "output_type": "stream",
          "name": "stdout",
          "text": [
            "313/313 [==============================] - 1s 2ms/step - loss: 0.3643 - accuracy: 0.8714\n"
          ]
        }
      ]
    }
  ]
}